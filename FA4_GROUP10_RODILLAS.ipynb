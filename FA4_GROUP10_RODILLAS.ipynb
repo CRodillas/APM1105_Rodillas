{
 "cells": [
  {
   "cell_type": "code",
   "execution_count": 79,
   "metadata": {},
   "outputs": [
    {
     "name": "stdout",
     "output_type": "stream",
     "text": [
      "Enter value for m:2\n",
      "Enter value for n:4\n",
      "11\n"
     ]
    }
   ],
   "source": [
    "def ack(m,n):   \n",
    "    if m==0:\n",
    "        return n+1\n",
    "    if n==0 and m>=0:\n",
    "        return ack(m-1,1)\n",
    "    if m>0 and n>=0:\n",
    "        return ack(m-1, ack(m,n -1))\n",
    "    \n",
    "m=int(input(\"Enter value for m:\"))\n",
    "n=int(input(\"Enter value for n:\"))\n",
    "print(ack(m,n))\n",
    "#the highest possible values for (m,n) is (3,8) since recursion happens due to maximum recursion depth"
   ]
  },
  {
   "cell_type": "code",
   "execution_count": 133,
   "metadata": {},
   "outputs": [
    {
     "name": "stdout",
     "output_type": "stream",
     "text": [
      "Enter value for x:135\n",
      "Enter value for y:2\n",
      "False\n"
     ]
    }
   ],
   "source": [
    "def is_power(x,y):\n",
    "    if x % y==0:\n",
    "        if x%y == 0 and x/2 % y == 0:\n",
    "            if(x/y) % y == 0:\n",
    "                return True\n",
    "            \n",
    "            else:\n",
    "                return False\n",
    "    elif math.fmod(x,y)!=0:\n",
    "        if math.fmod(x,y)<1:\n",
    "            s=0\n",
    "            f=0\n",
    "            x%y==s\n",
    "            if s == 0:\n",
    "                return True\n",
    "        else:\n",
    "            return False\n",
    "\n",
    "x=float(input(\"Enter value for x:\"))\n",
    "\n",
    "y=float(input(\"Enter value for y:\"))\n",
    "\n",
    "print(is_power(x,y))"
   ]
  },
  {
   "cell_type": "code",
   "execution_count": null,
   "metadata": {},
   "outputs": [],
   "source": []
  }
 ],
 "metadata": {
  "kernelspec": {
   "display_name": "Python 3",
   "language": "python",
   "name": "python3"
  },
  "language_info": {
   "codemirror_mode": {
    "name": "ipython",
    "version": 3
   },
   "file_extension": ".py",
   "mimetype": "text/x-python",
   "name": "python",
   "nbconvert_exporter": "python",
   "pygments_lexer": "ipython3",
   "version": "3.7.0"
  }
 },
 "nbformat": 4,
 "nbformat_minor": 2
}
